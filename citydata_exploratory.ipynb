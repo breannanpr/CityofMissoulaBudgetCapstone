{
 "cells": [
  {
   "cell_type": "markdown",
   "metadata": {},
   "source": [
    "# Exploring and Cleaning Data\n",
    "\n",
    "In the following code I will be performing both exploratory analysis and cleaning the data provided within three excel spreadsheets. These spreadsheets contain budget information for the City of Missoula and aligining Program Inventory information surrounding different programs that are funded by the City of Missoula. \n",
    "\n",
    "The data provided is messy and comes from both the financial software that is used, but also from a different software that collects survey responses. The data in the excel files is messy and unclean. This process will load the files into the environment, perform data cleaning functions to prepare the data for manipulation in Power Bi. In Power BI, I will create a dashboard that provides information about all of the different programs currently funded and provide granular breakdowns for financial and other important information therein. \n",
    "\n",
    "Once the data is cleaned I will conduct some exploratory analysis on the newly cleaned data to see how it performs. "
   ]
  },
  {
   "cell_type": "code",
   "execution_count": 1,
   "metadata": {},
   "outputs": [],
   "source": [
    "### Importing Libraries\n",
    "import pandas as pd\n",
    "import numpy as np\n",
    "import os\n",
    "import matplotlib.pyplot as plt"
   ]
  },
  {
   "cell_type": "code",
   "execution_count": 2,
   "metadata": {},
   "outputs": [],
   "source": [
    "## Load Files; only the first sheet in expenditure and program inventory, all of the sheets in revenue expense. \n",
    "revenue_expense = pd.read_excel(\"data/FY24_Revenue_Expense_Data.xlsx\", sheet_name=None)\n",
    "expenditure_status = pd.read_excel(\"data/FY24_Expenditure_Status.xlsx\", sheet_name=0, skiprows=5)\n",
    "program_inventory = pd.read_excel(\"data/Program_Inventory_Internal_Data_Collection.xlsx\", sheet_name=0)"
   ]
  },
  {
   "cell_type": "code",
   "execution_count": 3,
   "metadata": {},
   "outputs": [
    {
     "name": "stdout",
     "output_type": "stream",
     "text": [
      "Revenue Expense Loaded: dict_keys(['Rev', 'Exp', 'Status'])\n",
      "Expenditure Status Preview:\n",
      "                                                1000            GENERAL FUND  \\\n",
      "0                                                210            CITY COUNCIL   \n",
      "1                            \\n_x000D_Account Number  Adjusted Appropriation   \n",
      "2  1000.210.410100                LEGISLATION SER...                     NaN   \n",
      "3       1000.210.410100.100        PERSONAL SERVICES                     NaN   \n",
      "4       1000.210.410100.110.000   SALARIES AND WAGES                  214440   \n",
      "\n",
      "   Unnamed: 2  Unnamed: 3  Unnamed: 4  Unnamed: 5  Unnamed: 6  Unnamed: 7  \\\n",
      "0         NaN         NaN         NaN         NaN         NaN         NaN   \n",
      "1         NaN         NaN         NaN         NaN         NaN         NaN   \n",
      "2         NaN         NaN         NaN         NaN         NaN         NaN   \n",
      "3         NaN         NaN         NaN         NaN         NaN         NaN   \n",
      "4         NaN         NaN         NaN         NaN         NaN         NaN   \n",
      "\n",
      "   Unnamed: 8  Unnamed: 9  Unnamed: 10  Unnamed: 11  Unnamed: 12  Unnamed: 13  \\\n",
      "0         NaN         NaN          NaN          NaN          NaN          NaN   \n",
      "1         NaN         NaN          NaN          NaN          NaN          NaN   \n",
      "2         NaN         NaN          NaN          NaN          NaN          NaN   \n",
      "3         NaN         NaN          NaN          NaN          NaN          NaN   \n",
      "4         NaN         NaN          NaN          NaN          NaN          NaN   \n",
      "\n",
      "   Unnamed: 14  Unnamed: 15  Unnamed: 16  \n",
      "0          NaN          NaN          NaN  \n",
      "1          NaN          NaN          NaN  \n",
      "2          NaN          NaN          NaN  \n",
      "3          NaN          NaN          NaN  \n",
      "4          NaN          NaN          NaN  \n",
      "Program Inventory Preview:\n",
      "   Fund  Org  Activity                  Program Title (H8)  \\\n",
      "0  1000  210    410100                LEGISLATION SERVICES   \n",
      "1  1000  210    419000  GENERAL GOV'T ONETIME EXPENDITURES   \n",
      "2  1000  220    410210                      ADMINISTRATION   \n",
      "3  1000  220    410250                      ADMINISTRATION   \n",
      "4  1000  220    419000  GENERAL GOV'T ONETIME EXPENDITURES   \n",
      "\n",
      "                         Requested Title Change (I9) Department (H6)  \\\n",
      "0                                                  0         Council   \n",
      "1  One Time Expense - Neighborhood Traffic Manage...         Council   \n",
      "2                                     Mayor's Office  Administration   \n",
      "3                              Communications Office  Administration   \n",
      "4                                                  0  Administration   \n",
      "\n",
      "   FTEs (H36)  Personnel (G27)  O&M (G28)  Debt (G29)  ...  \\\n",
      "0        12.0         414572.0    23605.0           0  ...   \n",
      "1         0.0              0.0    20000.0           0  ...   \n",
      "2         3.0         459928.0    69072.0           0  ...   \n",
      "3         1.0         148046.0    24289.0           0  ...   \n",
      "4         0.0              0.0    38105.0           0  ...   \n",
      "\n",
      "                                 Unnamed: 25  \\\n",
      "0  Internal Organizational (City) Dependence   \n",
      "1                                          0   \n",
      "2  Internal Organizational (City) Dependence   \n",
      "3  Internal Organizational (City) Dependence   \n",
      "4                                          0   \n",
      "\n",
      "   Strategic Goal (E64, E66, E68, E74, E80)  \\\n",
      "0                                        No   \n",
      "1                                        No   \n",
      "2                                        No   \n",
      "3                                       Yes   \n",
      "4                                        No   \n",
      "\n",
      "                                Unnamed: 27  \\\n",
      "0                                         0   \n",
      "1                                         0   \n",
      "2                                         0   \n",
      "3  Organizational Excellence and Resilience   \n",
      "4                                         0   \n",
      "\n",
      "                                         Unnamed: 28  \\\n",
      "0                                                  0   \n",
      "1                                                  0   \n",
      "2                                                  0   \n",
      "3  Drive consistency, effectiveness and excellenc...   \n",
      "4                                                  0   \n",
      "\n",
      "                                         Unnamed: 29  Unnamed: 30  \\\n",
      "0                                                  0            0   \n",
      "1                                                  0            0   \n",
      "2                                                  0            0   \n",
      "3  Overhaul and implement social media policies a...            0   \n",
      "4                                                  0            0   \n",
      "\n",
      "          Trend (Demand) (E87, E89)  \\\n",
      "0  Demand for service is increasing   \n",
      "1      Demand for service is stable   \n",
      "2  Demand for service is increasing   \n",
      "3  Demand for service is increasing   \n",
      "4      Demand for service is stable   \n",
      "\n",
      "                                         Unnamed: 32 Risk (E93, E95)  \\\n",
      "0  Increase in council time for committees and in...     Low/No Risk   \n",
      "1                                                  0     Low/No Risk   \n",
      "2  As the City grows and issues become more compl...     Low/No Risk   \n",
      "3  Demand for accurate, timely, appropriate commu...     Low/No Risk   \n",
      "4                                                  0     Low/No Risk   \n",
      "\n",
      "                      Unnamed: 34  \n",
      "0                               0  \n",
      "1                               0  \n",
      "2             Program risk is low  \n",
      "3  Program risk is considered low  \n",
      "4                               0  \n",
      "\n",
      "[5 rows x 35 columns]\n"
     ]
    }
   ],
   "source": [
    "## Previews load \n",
    "print(\"Revenue Expense Loaded:\", revenue_expense.keys())\n",
    "print(\"Expenditure Status Preview:\")\n",
    "print(expenditure_status.head())\n",
    "print(\"Program Inventory Preview:\")\n",
    "print(program_inventory.head())"
   ]
  },
  {
   "cell_type": "code",
   "execution_count": 4,
   "metadata": {},
   "outputs": [],
   "source": [
    "## Defining Cleaning Data Functions\n",
    "def drop_unnamed_columns(df):\n",
    "    \"\"\"Removes fully empty 'Unnamed' columns from a DataFrame.\"\"\"\n",
    "    return df.loc[:, ~df.columns.str.contains(\"^Unnamed\")]\n",
    "\n",
    "def clean_numeric_column(column):\n",
    "    \"\"\"Removes trailing .0 from numeric values for better formatting.\"\"\"\n",
    "    return column.astype(str).str.replace(r'\\.0$', '', regex=True)\n",
    "\n",
    "def clean_identifiers(df):\n",
    "    \"\"\"Cleans and standardizes Fund #, Activity Code, and Dept # formatting.\"\"\"\n",
    "    if \"Fund #\" in df.columns:\n",
    "        df[\"Fund #\"] = df[\"Fund #\"].astype(str).str.split('.').str[0]\n",
    "    if \"Activity code\" in df.columns:\n",
    "        df[\"Activity code\"] = df[\"Activity code\"].astype(str).str.split('.').str[0].str.zfill(6)\n",
    "    if \"Dept #\" in df.columns:\n",
    "        df[\"Dept #\"] = df[\"Dept #\"].astype(str).str.split('.').str[0].str.zfill(3)\n",
    "    return df\n",
    "\n",
    "def clean_dataframe(df):\n",
    "    \"\"\"Removes empty rows and columns, trims column names, and applies identifier cleaning.\"\"\"\n",
    "    df = df.dropna(axis=1, how='all')\n",
    "    df.columns = df.columns.str.strip()\n",
    "    df = df.dropna(how='all')\n",
    "    return clean_identifiers(df)"
   ]
  },
  {
   "cell_type": "code",
   "execution_count": 5,
   "metadata": {},
   "outputs": [],
   "source": [
    "## Data Cleaning Process\n",
    "df_expenditure_status = drop_unnamed_columns(expenditure_status)\n",
    "df_program_inventory = drop_unnamed_columns(program_inventory)"
   ]
  },
  {
   "cell_type": "code",
   "execution_count": 6,
   "metadata": {},
   "outputs": [],
   "source": [
    "# Ensure the \"Account Number\" column is properly formatted before splitting, then splitting account number into different pieces\n",
    "df_expenditure_status = df_expenditure_status[df_expenditure_status.iloc[:, 0].notna()]\n",
    "\n",
    "split_columns = ['Fund #', 'Dept #', 'Activity Code', 'Object Code', 'Sub-object Code']\n",
    "df_expenditure_status[split_columns] = df_expenditure_status.iloc[:, 0].str.split('.', expand=True, n=4)"
   ]
  },
  {
   "cell_type": "code",
   "execution_count": 7,
   "metadata": {},
   "outputs": [],
   "source": [
    "# Convert newly created columns to numeric where applicable\n",
    "for col in split_columns:\n",
    "    df_expenditure_status[col] = pd.to_numeric(df_expenditure_status[col], errors=\"coerce\")"
   ]
  },
  {
   "cell_type": "code",
   "execution_count": 8,
   "metadata": {},
   "outputs": [],
   "source": [
    "# Forward-fill missing Fund # and Dept # values correctly\n",
    "df_expenditure_status[['Fund #', 'Dept #']] = df_expenditure_status[['Fund #', 'Dept #']].ffill()"
   ]
  },
  {
   "cell_type": "code",
   "execution_count": 9,
   "metadata": {},
   "outputs": [],
   "source": [
    "# Drop any remaining rows where Activity Code is missing, ensuring no metadata rows remain\n",
    "df_expenditure_status = df_expenditure_status.dropna(subset=['Activity Code'])"
   ]
  },
  {
   "cell_type": "code",
   "execution_count": 10,
   "metadata": {},
   "outputs": [],
   "source": [
    "# Drop the original \"Account Number\" column as we now have separate columns\n",
    "df_expenditure_status = df_expenditure_status.drop(columns=[df_expenditure_status.columns[0]])"
   ]
  },
  {
   "cell_type": "code",
   "execution_count": 11,
   "metadata": {},
   "outputs": [],
   "source": [
    "# Reorder columns for better readability\n",
    "column_order = split_columns + list(df_expenditure_status.columns[len(split_columns):])\n",
    "df_expenditure_status = df_expenditure_status[column_order]"
   ]
  },
  {
   "cell_type": "code",
   "execution_count": 12,
   "metadata": {},
   "outputs": [],
   "source": [
    "# Drop remaining unnamed columns that might have persisted\n",
    "df_expenditure_status = drop_unnamed_columns(df_expenditure_status)"
   ]
  },
  {
   "cell_type": "code",
   "execution_count": 13,
   "metadata": {},
   "outputs": [],
   "source": [
    "#### Stuck on Sub-Object code. "
   ]
  },
  {
   "cell_type": "code",
   "execution_count": 14,
   "metadata": {},
   "outputs": [],
   "source": [
    "# Fix multi-line headers in Program Inventory by extracting meaningful column names\n",
    "def fix_multiline_headers(columns):\n",
    "    new_headers = []\n",
    "    for col in columns:\n",
    "        if \"(\" in col and \")\" in col:\n",
    "            base_name = col.split(\"(\")[0].strip()  # Extract base name before \"(\"\n",
    "            sub_names = col[col.find(\"(\") + 1:col.find(\")\")].split(\",\")  # Extract sub-column names\n",
    "            cleaned_sub_names = [base_name + \" \" + sub.strip() for sub in sub_names]\n",
    "            \n",
    "            # If the number of sub-columns matches the number of actual columns, replace them\n",
    "            if len(cleaned_sub_names) == 1:\n",
    "                new_headers.append(cleaned_sub_names[0])\n",
    "            else:\n",
    "                new_headers.append(base_name)  # Keep base name if mismatch occurs\n",
    "        else:\n",
    "            new_headers.append(col)\n",
    "    \n",
    "    # Ensure the length of new headers matches the number of columns\n",
    "    if len(new_headers) != len(columns):\n",
    "        print(f\"⚠️ Warning: Column count mismatch! Expected {len(columns)}, but got {len(new_headers)}. Using original names.\")\n",
    "        return list(columns)  # Return the original names if there's a mismatch\n",
    "    \n",
    "    return new_headers\n",
    "\n",
    "df_program_inventory.columns = fix_multiline_headers(df_program_inventory.columns)"
   ]
  },
  {
   "cell_type": "code",
   "execution_count": 15,
   "metadata": {},
   "outputs": [],
   "source": [
    "# Remove special characters from column names\n",
    "df_program_inventory.columns = df_program_inventory.columns.str.replace(r'\\n|\\r|_x000D_', '', regex=True)"
   ]
  },
  {
   "cell_type": "code",
   "execution_count": 16,
   "metadata": {},
   "outputs": [
    {
     "name": "stdout",
     "output_type": "stream",
     "text": [
      "Cleaned Revenue Expense Sheets: dict_keys(['Rev', 'Exp', 'Status'])\n",
      "Final Cleaned Expenditure Status Preview:\n",
      "   Fund #  Dept #  Activity Code  Object Code  Sub-object Code  \\\n",
      "3  1000.0   210.0       410100.0          NaN              NaN   \n",
      "4  1000.0   210.0       410100.0        110.0              NaN   \n",
      "5  1000.0   210.0       410100.0        140.0              NaN   \n",
      "6  1000.0   210.0       410100.0        141.0              NaN   \n",
      "9  1000.0   210.0       410100.0          NaN              NaN   \n",
      "\n",
      "   Sub-object Code  \n",
      "3              NaN  \n",
      "4              NaN  \n",
      "5              NaN  \n",
      "6              NaN  \n",
      "9              NaN  \n",
      "Final Cleaned Program Inventory Preview:\n",
      "   Fund  Org  Activity                    Program Title H8  \\\n",
      "0  1000  210    410100                LEGISLATION SERVICES   \n",
      "1  1000  210    419000  GENERAL GOV'T ONETIME EXPENDITURES   \n",
      "2  1000  220    410210                      ADMINISTRATION   \n",
      "3  1000  220    410250                      ADMINISTRATION   \n",
      "4  1000  220    419000  GENERAL GOV'T ONETIME EXPENDITURES   \n",
      "\n",
      "                           Requested Title Change I9   Department H6  \\\n",
      "0                                                  0         Council   \n",
      "1  One Time Expense - Neighborhood Traffic Manage...         Council   \n",
      "2                                     Mayor's Office  Administration   \n",
      "3                              Communications Office  Administration   \n",
      "4                                                  0  Administration   \n",
      "\n",
      "   FTEs H36  Personnel G27  O&M G28  Debt G29  ...  Total Expenditures G33  \\\n",
      "0      12.0       414572.0  23605.0         0  ...                444177.0   \n",
      "1       0.0            0.0  20000.0         0  ...                 20000.0   \n",
      "2       3.0       459928.0  69072.0         0  ...                529000.0   \n",
      "3       1.0       148046.0  24289.0         0  ...                172335.0   \n",
      "4       0.0            0.0  38105.0         0  ...                 54105.0   \n",
      "\n",
      "   Cost Recovery                                    Description E12  \\\n",
      "0             No  Legislation Services include the salaries, tra...   \n",
      "1             No  This activity accounts for the expenditure of ...   \n",
      "2             No  Provides for the operations of the Mayor's Office   \n",
      "3             No  Embedded in the Mayor’s Office, this program p...   \n",
      "4            Yes  $38,105 - Communications Professional Services...   \n",
      "\n",
      "   Additional Activities E20 Mandate Service Level  \\\n",
      "0                          0     Yes           Yes   \n",
      "1                          0      No            No   \n",
      "2                          0     Yes            No   \n",
      "3                          0      No            No   \n",
      "4                          0      No            No   \n",
      "\n",
      "  Reliance & Interdependencies Strategic Goal  \\\n",
      "0                        High              No   \n",
      "1                          Low             No   \n",
      "2                        High              No   \n",
      "3                        High             Yes   \n",
      "4                          Low             No   \n",
      "\n",
      "                       Trend Demand         Risk  \n",
      "0  Demand for service is increasing  Low/No Risk  \n",
      "1      Demand for service is stable  Low/No Risk  \n",
      "2  Demand for service is increasing  Low/No Risk  \n",
      "3  Demand for service is increasing  Low/No Risk  \n",
      "4      Demand for service is stable  Low/No Risk  \n",
      "\n",
      "[5 rows x 23 columns]\n"
     ]
    }
   ],
   "source": [
    "# Preview cleaned data before further processing\n",
    "print(\"Cleaned Revenue Expense Sheets:\", revenue_expense.keys())\n",
    "print(\"Final Cleaned Expenditure Status Preview:\")\n",
    "print(df_expenditure_status.head())\n",
    "print(\"Final Cleaned Program Inventory Preview:\")\n",
    "print(df_program_inventory.head())"
   ]
  }
 ],
 "metadata": {
  "kernelspec": {
   "display_name": "Python 3",
   "language": "python",
   "name": "python3"
  },
  "language_info": {
   "codemirror_mode": {
    "name": "ipython",
    "version": 3
   },
   "file_extension": ".py",
   "mimetype": "text/x-python",
   "name": "python",
   "nbconvert_exporter": "python",
   "pygments_lexer": "ipython3",
   "version": "3.12.2"
  }
 },
 "nbformat": 4,
 "nbformat_minor": 2
}
